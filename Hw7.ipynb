{
 "cells": [
  {
   "cell_type": "code",
   "execution_count": 35,
   "metadata": {},
   "outputs": [],
   "source": [
    "import pandas as pd\n",
    "import matplotlib.pyplot as plt\n",
    "\n",
    "from surprise import Dataset, SVD, SVDpp, KNNBasic, KNNWithMeans, KNNWithZScore, KNNBaseline, NMF, NormalPredictor, BaselineOnly, SlopeOne, CoClustering\n",
    "from surprise.model_selection import cross_validate"
   ]
  },
  {
   "cell_type": "markdown",
   "metadata": {},
   "source": [
    "Завантажимо датасет __movielens__"
   ]
  },
  {
   "cell_type": "code",
   "execution_count": 36,
   "metadata": {},
   "outputs": [],
   "source": [
    "data = Dataset.load_builtin('ml-100k')"
   ]
  },
  {
   "cell_type": "markdown",
   "metadata": {},
   "source": [
    "Побудуємо модель матричної факторизації використовуючи алгоритм __SVD__ з бібліотеки __surprise__"
   ]
  },
  {
   "cell_type": "code",
   "execution_count": 37,
   "metadata": {},
   "outputs": [
    {
     "name": "stdout",
     "output_type": "stream",
     "text": [
      "Evaluating RMSE, MAE of algorithm SVD on 5 split(s).\n",
      "\n",
      "                  Fold 1  Fold 2  Fold 3  Fold 4  Fold 5  Mean    Std     \n",
      "RMSE (testset)    0.9345  0.9272  0.9336  0.9510  0.9348  0.9362  0.0079  \n",
      "MAE (testset)     0.7356  0.7316  0.7350  0.7484  0.7370  0.7375  0.0057  \n",
      "Fit time          1.75    1.54    1.53    1.54    1.53    1.58    0.08    \n",
      "Test time         0.27    0.27    0.56    0.28    0.26    0.33    0.12    \n",
      "Mean RMSE: 0.9362397901814653\n",
      "Mean MAE: 0.7375272387209579\n"
     ]
    }
   ],
   "source": [
    "svd = SVD()\n",
    "\n",
    "cv_results = cross_validate(svd, data, measures=['RMSE', 'MAE'], cv=5, verbose=True)\n",
    "\n",
    "svd_mean_rmse = cv_results['test_rmse'].mean()\n",
    "svd_mean_mae = cv_results['test_mae'].mean()\n",
    "\n",
    "print(\"Mean RMSE:\", svd_mean_rmse)\n",
    "print(\"Mean MAE:\", svd_mean_mae)"
   ]
  },
  {
   "cell_type": "markdown",
   "metadata": {},
   "source": [
    "Використаємо алгоритм __SVD++__"
   ]
  },
  {
   "cell_type": "code",
   "execution_count": 38,
   "metadata": {},
   "outputs": [
    {
     "name": "stdout",
     "output_type": "stream",
     "text": [
      "Evaluating RMSE, MAE of algorithm SVDpp on 5 split(s).\n",
      "\n",
      "                  Fold 1  Fold 2  Fold 3  Fold 4  Fold 5  Mean    Std     \n",
      "RMSE (testset)    0.9174  0.9183  0.9199  0.9250  0.9210  0.9203  0.0027  \n",
      "MAE (testset)     0.7189  0.7210  0.7217  0.7252  0.7213  0.7216  0.0020  \n",
      "Fit time          30.62   30.94   30.69   31.28   31.49   31.00   0.34    \n",
      "Test time         6.98    7.41    7.13    7.11    7.04    7.14    0.15    \n",
      "Mean RMSE: 0.9203294417621108\n",
      "Mean MAE: 0.7216341741418095\n"
     ]
    }
   ],
   "source": [
    "svd_pp = SVDpp()\n",
    "\n",
    "cv_results = cross_validate(svd_pp, data, measures=['RMSE', 'MAE'], cv=5, verbose=True)\n",
    "\n",
    "svd_pp_mean_rmse = cv_results['test_rmse'].mean()\n",
    "svd_pp_mean_mae = cv_results['test_mae'].mean()\n",
    "\n",
    "print(\"Mean RMSE:\", svd_pp_mean_rmse)\n",
    "print(\"Mean MAE:\", svd_pp_mean_mae)"
   ]
  },
  {
   "cell_type": "markdown",
   "metadata": {},
   "source": [
    "Використаємо алгоритм __NormalPredictor__"
   ]
  },
  {
   "cell_type": "code",
   "execution_count": 39,
   "metadata": {},
   "outputs": [
    {
     "name": "stdout",
     "output_type": "stream",
     "text": [
      "Evaluating RMSE, MAE of algorithm NormalPredictor on 5 split(s).\n",
      "\n",
      "                  Fold 1  Fold 2  Fold 3  Fold 4  Fold 5  Mean    Std     \n",
      "RMSE (testset)    1.5088  1.5181  1.5148  1.5340  1.5146  1.5181  0.0085  \n",
      "MAE (testset)     1.2116  1.2181  1.2161  1.2314  1.2164  1.2187  0.0067  \n",
      "Fit time          0.16    0.19    0.20    0.19    0.20    0.19    0.01    \n",
      "Test time         0.17    0.49    0.17    0.17    0.18    0.24    0.13    \n",
      "Mean RMSE: 1.5180622634075216\n",
      "Mean MAE: 1.2187288890648227\n"
     ]
    }
   ],
   "source": [
    "normal_predictor = NormalPredictor()\n",
    "\n",
    "cv_results = cross_validate(normal_predictor, data, measures=['RMSE', 'MAE'], cv=5, verbose=True)\n",
    "\n",
    "normal_predictor_mean_rmse = cv_results['test_rmse'].mean()\n",
    "normal_predictor_mean_mae = cv_results['test_mae'].mean()\n",
    "\n",
    "print(\"Mean RMSE:\", normal_predictor_mean_rmse)\n",
    "print(\"Mean MAE:\", normal_predictor_mean_mae)"
   ]
  },
  {
   "cell_type": "markdown",
   "metadata": {},
   "source": [
    "Використаємо алгоритм __BaselineOnly__"
   ]
  },
  {
   "cell_type": "code",
   "execution_count": 40,
   "metadata": {},
   "outputs": [
    {
     "name": "stdout",
     "output_type": "stream",
     "text": [
      "Estimating biases using als...\n",
      "Estimating biases using als...\n",
      "Estimating biases using als...\n",
      "Estimating biases using als...\n",
      "Estimating biases using als...\n",
      "Evaluating RMSE, MAE of algorithm BaselineOnly on 5 split(s).\n",
      "\n",
      "                  Fold 1  Fold 2  Fold 3  Fold 4  Fold 5  Mean    Std     \n",
      "RMSE (testset)    0.9422  0.9462  0.9500  0.9425  0.9410  0.9444  0.0033  \n",
      "MAE (testset)     0.7479  0.7474  0.7535  0.7475  0.7473  0.7487  0.0024  \n",
      "Fit time          0.24    0.25    0.26    0.27    0.26    0.25    0.01    \n",
      "Test time         0.16    0.43    0.16    0.16    0.16    0.21    0.11    \n",
      "Mean RMSE: 0.9443877259331723\n",
      "Mean MAE: 0.7487399951532492\n"
     ]
    }
   ],
   "source": [
    "baseline_only = BaselineOnly()\n",
    "\n",
    "cv_results = cross_validate(baseline_only, data, measures=['RMSE', 'MAE'], cv=5, verbose=True)\n",
    "\n",
    "baseline_only_mean_rmse = cv_results['test_rmse'].mean()\n",
    "baseline_only_mean_mae = cv_results['test_mae'].mean()\n",
    "\n",
    "print(\"Mean RMSE:\", baseline_only_mean_rmse)\n",
    "print(\"Mean MAE:\", baseline_only_mean_mae)"
   ]
  },
  {
   "cell_type": "markdown",
   "metadata": {},
   "source": [
    "Використаємо алгоритм __KNNBasic__"
   ]
  },
  {
   "cell_type": "code",
   "execution_count": 41,
   "metadata": {},
   "outputs": [
    {
     "name": "stdout",
     "output_type": "stream",
     "text": [
      "Computing the msd similarity matrix...\n",
      "Done computing similarity matrix.\n",
      "Computing the msd similarity matrix...\n",
      "Done computing similarity matrix.\n",
      "Computing the msd similarity matrix...\n",
      "Done computing similarity matrix.\n",
      "Computing the msd similarity matrix...\n",
      "Done computing similarity matrix.\n",
      "Computing the msd similarity matrix...\n",
      "Done computing similarity matrix.\n",
      "Evaluating RMSE, MAE of algorithm KNNBasic on 5 split(s).\n",
      "\n",
      "                  Fold 1  Fold 2  Fold 3  Fold 4  Fold 5  Mean    Std     \n",
      "RMSE (testset)    0.9795  0.9697  0.9843  0.9783  0.9832  0.9790  0.0052  \n",
      "MAE (testset)     0.7750  0.7654  0.7759  0.7743  0.7757  0.7733  0.0040  \n",
      "Fit time          0.69    0.70    0.72    0.72    0.72    0.71    0.01    \n",
      "Test time         5.39    5.22    5.21    5.22    5.30    5.27    0.07    \n",
      "Mean RMSE: 0.9790099386482358\n",
      "Mean MAE: 0.7732731873081138\n"
     ]
    }
   ],
   "source": [
    "knn = KNNBasic()\n",
    "\n",
    "cv_results = cross_validate(knn, data, measures=['RMSE', 'MAE'], cv=5, verbose=True)\n",
    "\n",
    "knn_mean_rmse = cv_results['test_rmse'].mean()\n",
    "knn_mean_mae = cv_results['test_mae'].mean()\n",
    "\n",
    "print(\"Mean RMSE:\", knn_mean_rmse)\n",
    "print(\"Mean MAE:\", knn_mean_mae)"
   ]
  },
  {
   "cell_type": "markdown",
   "metadata": {},
   "source": [
    "Використаємо алгоритм __KNNWithMeans__"
   ]
  },
  {
   "cell_type": "code",
   "execution_count": 42,
   "metadata": {},
   "outputs": [
    {
     "name": "stdout",
     "output_type": "stream",
     "text": [
      "Computing the msd similarity matrix...\n",
      "Done computing similarity matrix.\n",
      "Computing the msd similarity matrix...\n",
      "Done computing similarity matrix.\n",
      "Computing the msd similarity matrix...\n",
      "Done computing similarity matrix.\n",
      "Computing the msd similarity matrix...\n",
      "Done computing similarity matrix.\n",
      "Computing the msd similarity matrix...\n",
      "Done computing similarity matrix.\n",
      "Evaluating RMSE, MAE of algorithm KNNWithMeans on 5 split(s).\n",
      "\n",
      "                  Fold 1  Fold 2  Fold 3  Fold 4  Fold 5  Mean    Std     \n",
      "RMSE (testset)    0.9526  0.9445  0.9495  0.9478  0.9551  0.9499  0.0037  \n",
      "MAE (testset)     0.7523  0.7426  0.7480  0.7480  0.7520  0.7486  0.0035  \n",
      "Fit time          0.74    0.79    0.77    0.79    0.80    0.78    0.02    \n",
      "Test time         5.73    5.38    5.95    5.47    5.50    5.61    0.21    \n",
      "Mean RMSE: 0.9498770945178258\n",
      "Mean MAE: 0.7485750820519105\n"
     ]
    }
   ],
   "source": [
    "knn_means = KNNWithMeans()\n",
    "\n",
    "cv_results = cross_validate(knn_means, data, measures=['RMSE', 'MAE'], cv=5, verbose=True)\n",
    "\n",
    "knn_means_mean_rmse = cv_results['test_rmse'].mean()\n",
    "knn_means_mean_mae = cv_results['test_mae'].mean()\n",
    "\n",
    "print(\"Mean RMSE:\", knn_means_mean_rmse)\n",
    "print(\"Mean MAE:\", knn_means_mean_mae)"
   ]
  },
  {
   "cell_type": "markdown",
   "metadata": {},
   "source": [
    "Використаємо алгоритм __KNNWithZScore__"
   ]
  },
  {
   "cell_type": "code",
   "execution_count": 43,
   "metadata": {},
   "outputs": [
    {
     "name": "stdout",
     "output_type": "stream",
     "text": [
      "Computing the msd similarity matrix...\n",
      "Done computing similarity matrix.\n",
      "Computing the msd similarity matrix...\n",
      "Done computing similarity matrix.\n",
      "Computing the msd similarity matrix...\n",
      "Done computing similarity matrix.\n",
      "Computing the msd similarity matrix...\n",
      "Done computing similarity matrix.\n",
      "Computing the msd similarity matrix...\n",
      "Done computing similarity matrix.\n",
      "Evaluating RMSE, MAE of algorithm KNNWithZScore on 5 split(s).\n",
      "\n",
      "                  Fold 1  Fold 2  Fold 3  Fold 4  Fold 5  Mean    Std     \n",
      "RMSE (testset)    0.9581  0.9453  0.9511  0.9483  0.9525  0.9510  0.0043  \n",
      "MAE (testset)     0.7504  0.7433  0.7471  0.7440  0.7470  0.7463  0.0025  \n",
      "Fit time          0.86    0.92    0.92    0.93    0.91    0.91    0.03    \n",
      "Test time         6.03    5.97    6.03    6.10    6.60    6.15    0.23    \n",
      "Mean RMSE: 0.951042324179023\n",
      "Mean MAE: 0.7463418710448589\n"
     ]
    }
   ],
   "source": [
    "knn_zscore = KNNWithZScore()\n",
    "\n",
    "cv_results = cross_validate(knn_zscore, data, measures=['RMSE', 'MAE'], cv=5, verbose=True)\n",
    "\n",
    "knn_zscore_mean_rmse = cv_results['test_rmse'].mean()\n",
    "knn_zscore_mean_mae = cv_results['test_mae'].mean()\n",
    "\n",
    "print(\"Mean RMSE:\", knn_zscore_mean_rmse)\n",
    "print(\"Mean MAE:\", knn_zscore_mean_mae)"
   ]
  },
  {
   "cell_type": "markdown",
   "metadata": {},
   "source": [
    "Використаємо алгоритм __KNNBaseline__"
   ]
  },
  {
   "cell_type": "code",
   "execution_count": 44,
   "metadata": {},
   "outputs": [
    {
     "name": "stdout",
     "output_type": "stream",
     "text": [
      "Estimating biases using als...\n",
      "Computing the msd similarity matrix...\n",
      "Done computing similarity matrix.\n",
      "Estimating biases using als...\n",
      "Computing the msd similarity matrix...\n",
      "Done computing similarity matrix.\n",
      "Estimating biases using als...\n",
      "Computing the msd similarity matrix...\n",
      "Done computing similarity matrix.\n",
      "Estimating biases using als...\n",
      "Computing the msd similarity matrix...\n",
      "Done computing similarity matrix.\n",
      "Estimating biases using als...\n",
      "Computing the msd similarity matrix...\n",
      "Done computing similarity matrix.\n",
      "Evaluating RMSE, MAE of algorithm KNNBaseline on 5 split(s).\n",
      "\n",
      "                  Fold 1  Fold 2  Fold 3  Fold 4  Fold 5  Mean    Std     \n",
      "RMSE (testset)    0.9341  0.9297  0.9272  0.9353  0.9277  0.9308  0.0033  \n",
      "MAE (testset)     0.7351  0.7323  0.7295  0.7380  0.7318  0.7333  0.0029  \n",
      "Fit time          0.99    0.95    0.96    0.96    0.98    0.97    0.02    \n",
      "Test time         6.36    6.27    6.35    6.33    6.58    6.38    0.11    \n",
      "Mean RMSE: 0.9308140621749024\n",
      "Mean MAE: 0.7333327092615566\n"
     ]
    }
   ],
   "source": [
    "knn_baseline = KNNBaseline()\n",
    "\n",
    "cv_results = cross_validate(knn_baseline, data, measures=['RMSE', 'MAE'], cv=5, verbose=True)\n",
    "\n",
    "knn_baseline_mean_rmse = cv_results['test_rmse'].mean()\n",
    "knn_baseline_mean_mae = cv_results['test_mae'].mean()\n",
    "\n",
    "print(\"Mean RMSE:\", knn_baseline_mean_rmse)\n",
    "print(\"Mean MAE:\", knn_baseline_mean_mae)"
   ]
  },
  {
   "cell_type": "markdown",
   "metadata": {},
   "source": [
    "Використаємо алгоритм __NMF__"
   ]
  },
  {
   "cell_type": "code",
   "execution_count": 45,
   "metadata": {},
   "outputs": [
    {
     "name": "stdout",
     "output_type": "stream",
     "text": [
      "Evaluating RMSE, MAE of algorithm NMF on 5 split(s).\n",
      "\n",
      "                  Fold 1  Fold 2  Fold 3  Fold 4  Fold 5  Mean    Std     \n",
      "RMSE (testset)    0.9643  0.9671  0.9593  0.9625  0.9618  0.9630  0.0026  \n",
      "MAE (testset)     0.7577  0.7569  0.7551  0.7565  0.7588  0.7570  0.0012  \n",
      "Fit time          2.65    2.68    2.64    2.56    2.61    2.63    0.04    \n",
      "Test time         0.21    0.22    0.22    0.22    0.50    0.27    0.11    \n",
      "Mean RMSE: 0.9629924302979461\n",
      "Mean MAE: 0.7570127862429258\n"
     ]
    }
   ],
   "source": [
    "nmf = NMF()\n",
    "\n",
    "cv_results = cross_validate(nmf, data, measures=['RMSE', 'MAE'], cv=5, verbose=True)\n",
    "\n",
    "nmf_mean_rmse = cv_results['test_rmse'].mean()\n",
    "nmf_mean_mae = cv_results['test_mae'].mean()\n",
    "\n",
    "print(\"Mean RMSE:\", nmf_mean_rmse)\n",
    "print(\"Mean MAE:\", nmf_mean_mae)"
   ]
  },
  {
   "cell_type": "markdown",
   "metadata": {},
   "source": [
    "Використаємо алгоритм __SlopeOne__"
   ]
  },
  {
   "cell_type": "code",
   "execution_count": 46,
   "metadata": {},
   "outputs": [
    {
     "name": "stdout",
     "output_type": "stream",
     "text": [
      "Evaluating RMSE, MAE of algorithm SlopeOne on 5 split(s).\n",
      "\n",
      "                  Fold 1  Fold 2  Fold 3  Fold 4  Fold 5  Mean    Std     \n",
      "RMSE (testset)    0.9485  0.9452  0.9483  0.9453  0.9387  0.9452  0.0035  \n",
      "MAE (testset)     0.7460  0.7418  0.7468  0.7420  0.7377  0.7429  0.0033  \n",
      "Fit time          0.80    0.84    0.82    0.87    0.84    0.83    0.02    \n",
      "Test time         3.73    3.74    3.78    3.76    3.81    3.77    0.03    \n",
      "Mean RMSE: 0.9452079541058737\n",
      "Mean MAE: 0.7428704145570706\n"
     ]
    }
   ],
   "source": [
    "slope_one = SlopeOne()\n",
    "\n",
    "cv_results = cross_validate(slope_one, data, measures=['RMSE', 'MAE'], cv=5, verbose=True)\n",
    "\n",
    "slope_one_mean_rmse = cv_results['test_rmse'].mean()\n",
    "slope_one_mean_mae = cv_results['test_mae'].mean()\n",
    "\n",
    "print(\"Mean RMSE:\", slope_one_mean_rmse)\n",
    "print(\"Mean MAE:\", slope_one_mean_mae)"
   ]
  },
  {
   "cell_type": "markdown",
   "metadata": {},
   "source": [
    "Використаємо алгоритм __CoClustering__"
   ]
  },
  {
   "cell_type": "code",
   "execution_count": 47,
   "metadata": {},
   "outputs": [
    {
     "name": "stdout",
     "output_type": "stream",
     "text": [
      "Evaluating RMSE, MAE of algorithm CoClustering on 5 split(s).\n",
      "\n",
      "                  Fold 1  Fold 2  Fold 3  Fold 4  Fold 5  Mean    Std     \n",
      "RMSE (testset)    0.9528  0.9659  0.9708  0.9564  0.9624  0.9616  0.0065  \n",
      "MAE (testset)     0.7482  0.7548  0.7616  0.7460  0.7532  0.7528  0.0054  \n",
      "Fit time          3.31    3.41    3.42    3.34    3.36    3.37    0.04    \n",
      "Test time         0.20    0.20    0.21    0.48    0.21    0.26    0.11    \n",
      "Mean RMSE: 0.9616476451200772\n",
      "Mean MAE: 0.7527601353223742\n"
     ]
    }
   ],
   "source": [
    "co_clustering = CoClustering()\n",
    "\n",
    "cv_results = cross_validate(co_clustering, data, measures=['RMSE', 'MAE'], cv=5, verbose=True)\n",
    "\n",
    "co_clustering_mean_rmse = cv_results['test_rmse'].mean()\n",
    "co_clustering_mean_mae = cv_results['test_mae'].mean()\n",
    "\n",
    "print(\"Mean RMSE:\", co_clustering_mean_rmse)\n",
    "print(\"Mean MAE:\", co_clustering_mean_mae)"
   ]
  },
  {
   "cell_type": "markdown",
   "metadata": {},
   "source": [
    "Порівняємо отримані результати роботи різних алгоритмів між собою"
   ]
  },
  {
   "cell_type": "code",
   "execution_count": 48,
   "metadata": {},
   "outputs": [
    {
     "data": {
      "text/html": [
       "<div>\n",
       "<style scoped>\n",
       "    .dataframe tbody tr th:only-of-type {\n",
       "        vertical-align: middle;\n",
       "    }\n",
       "\n",
       "    .dataframe tbody tr th {\n",
       "        vertical-align: top;\n",
       "    }\n",
       "\n",
       "    .dataframe thead th {\n",
       "        text-align: right;\n",
       "    }\n",
       "</style>\n",
       "<table border=\"1\" class=\"dataframe\">\n",
       "  <thead>\n",
       "    <tr style=\"text-align: right;\">\n",
       "      <th></th>\n",
       "      <th>Algorithm</th>\n",
       "      <th>Mean RMSE</th>\n",
       "      <th>Mean MAE</th>\n",
       "    </tr>\n",
       "  </thead>\n",
       "  <tbody>\n",
       "    <tr>\n",
       "      <th>0</th>\n",
       "      <td>NormalPredictor</td>\n",
       "      <td>1.518062</td>\n",
       "      <td>1.218729</td>\n",
       "    </tr>\n",
       "    <tr>\n",
       "      <th>1</th>\n",
       "      <td>BaselineOnly</td>\n",
       "      <td>0.944388</td>\n",
       "      <td>0.748740</td>\n",
       "    </tr>\n",
       "    <tr>\n",
       "      <th>2</th>\n",
       "      <td>KNNBasic</td>\n",
       "      <td>0.979010</td>\n",
       "      <td>0.773273</td>\n",
       "    </tr>\n",
       "    <tr>\n",
       "      <th>3</th>\n",
       "      <td>KNNWithMeans</td>\n",
       "      <td>0.949877</td>\n",
       "      <td>0.748575</td>\n",
       "    </tr>\n",
       "    <tr>\n",
       "      <th>4</th>\n",
       "      <td>KNNWithZScore</td>\n",
       "      <td>0.951042</td>\n",
       "      <td>0.746342</td>\n",
       "    </tr>\n",
       "    <tr>\n",
       "      <th>5</th>\n",
       "      <td>KNNBaseline</td>\n",
       "      <td>0.930814</td>\n",
       "      <td>0.733333</td>\n",
       "    </tr>\n",
       "    <tr>\n",
       "      <th>6</th>\n",
       "      <td>SVD</td>\n",
       "      <td>0.936240</td>\n",
       "      <td>0.737527</td>\n",
       "    </tr>\n",
       "    <tr>\n",
       "      <th>7</th>\n",
       "      <td>SVDpp</td>\n",
       "      <td>0.920329</td>\n",
       "      <td>0.721634</td>\n",
       "    </tr>\n",
       "    <tr>\n",
       "      <th>8</th>\n",
       "      <td>NMF</td>\n",
       "      <td>0.962992</td>\n",
       "      <td>0.757013</td>\n",
       "    </tr>\n",
       "    <tr>\n",
       "      <th>9</th>\n",
       "      <td>SlopeOne</td>\n",
       "      <td>0.945208</td>\n",
       "      <td>0.742870</td>\n",
       "    </tr>\n",
       "    <tr>\n",
       "      <th>10</th>\n",
       "      <td>CoClustering</td>\n",
       "      <td>0.961648</td>\n",
       "      <td>0.752760</td>\n",
       "    </tr>\n",
       "  </tbody>\n",
       "</table>\n",
       "</div>"
      ],
      "text/plain": [
       "          Algorithm  Mean RMSE  Mean MAE\n",
       "0   NormalPredictor   1.518062  1.218729\n",
       "1      BaselineOnly   0.944388  0.748740\n",
       "2          KNNBasic   0.979010  0.773273\n",
       "3      KNNWithMeans   0.949877  0.748575\n",
       "4     KNNWithZScore   0.951042  0.746342\n",
       "5       KNNBaseline   0.930814  0.733333\n",
       "6               SVD   0.936240  0.737527\n",
       "7             SVDpp   0.920329  0.721634\n",
       "8               NMF   0.962992  0.757013\n",
       "9          SlopeOne   0.945208  0.742870\n",
       "10     CoClustering   0.961648  0.752760"
      ]
     },
     "execution_count": 48,
     "metadata": {},
     "output_type": "execute_result"
    }
   ],
   "source": [
    "algorithms = [\n",
    "    'NormalPredictor',\n",
    "    'BaselineOnly',\n",
    "    'KNNBasic',\n",
    "    'KNNWithMeans',\n",
    "    'KNNWithZScore',\n",
    "    'KNNBaseline',\n",
    "    'SVD',\n",
    "    'SVDpp',\n",
    "    'NMF',\n",
    "    'SlopeOne',\n",
    "    'CoClustering'\n",
    "]\n",
    "\n",
    "mean_rmse_list = [\n",
    "    normal_predictor_mean_rmse,\n",
    "    baseline_only_mean_rmse,\n",
    "    knn_mean_rmse,\n",
    "    knn_means_mean_rmse,\n",
    "    knn_zscore_mean_rmse,\n",
    "    knn_baseline_mean_rmse,\n",
    "    svd_mean_rmse,\n",
    "    svd_pp_mean_rmse,\n",
    "    nmf_mean_rmse,\n",
    "    slope_one_mean_rmse,\n",
    "    co_clustering_mean_rmse\n",
    "]\n",
    "\n",
    "mean_mae_list = [\n",
    "    normal_predictor_mean_mae,\n",
    "    baseline_only_mean_mae,\n",
    "    knn_mean_mae,\n",
    "    knn_means_mean_mae,\n",
    "    knn_zscore_mean_mae,\n",
    "    knn_baseline_mean_mae,\n",
    "    svd_mean_mae,\n",
    "    svd_pp_mean_mae,\n",
    "    nmf_mean_mae,\n",
    "    slope_one_mean_mae,\n",
    "    co_clustering_mean_mae\n",
    "]\n",
    "\n",
    "df_results = pd.DataFrame({'Algorithm': algorithms, 'Mean RMSE': mean_rmse_list, 'Mean MAE': mean_mae_list})\n",
    "df_results"
   ]
  },
  {
   "cell_type": "code",
   "execution_count": 49,
   "metadata": {},
   "outputs": [
    {
     "data": {
      "image/png": "[encoded data removed]",
      "text/plain": [
       "<Figure size 1000x600 with 1 Axes>"
      ]
     },
     "metadata": {},
     "output_type": "display_data"
    }
   ],
   "source": [
    "plt.figure(figsize=(10, 6))\n",
    "plt.bar(df_results['Algorithm'], df_results['Mean RMSE'], color='blue', alpha=0.6, label='Mean RMSE')\n",
    "plt.bar(df_results['Algorithm'], df_results['Mean MAE'], color='green', alpha=0.6, label='Mean MAE')\n",
    "plt.xlabel('Algorithm')\n",
    "plt.ylabel('Error')\n",
    "plt.title('Comparison of Algorithms')\n",
    "plt.xticks(rotation=90)\n",
    "plt.legend()\n",
    "plt.grid(axis='y', linestyle='--', alpha=0.7)\n",
    "plt.tight_layout()\n",
    "plt.show()"
   ]
  },
  {
   "cell_type": "markdown",
   "metadata": {},
   "source": [
    "Як можна побачити з отриманих результатів алгоритми __SVD++__, __KNNBaseline__ і __SVD__ мають найнижчі значення RMSE і MAE, а значить показують кращу ефективність порівняно з іншими алгоритмами з бібліотеки __surprise__ для даного датасету __movielens__. Також варто зазначити, що хоча алгоритм __SVD++__ й показав найкращі результати, він також виявився найбільш витратним по часу виконання, набагато випереджаючи за цим показником всі інші алгоритми."
   ]
  }
 ],
 "metadata": {
  "kernelspec": {
   "display_name": "Python 3",
   "language": "python",
   "name": "python3"
  },
  "language_info": {
   "codemirror_mode": {
    "name": "ipython",
    "version": 3
   },
   "file_extension": ".py",
   "mimetype": "text/x-python",
   "name": "python",
   "nbconvert_exporter": "python",
   "pygments_lexer": "ipython3",
   "version": "3.10.9"
  },
  "orig_nbformat": 4
 },
 "nbformat": 4,
 "nbformat_minor": 2
}
